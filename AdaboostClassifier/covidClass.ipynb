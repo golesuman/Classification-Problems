{
 "cells": [
  {
   "cell_type": "code",
   "execution_count": 1,
   "metadata": {},
   "outputs": [],
   "source": [
    "import pandas as pd \n",
    "import numpy as np\n",
    "import matplotlib.pyplot as plt\n",
    "import seaborn as sns\n",
    "pd.set_option('display.max_columns',None)"
   ]
  },
  {
   "cell_type": "code",
   "execution_count": 2,
   "metadata": {},
   "outputs": [
    {
     "data": {
      "text/html": [
       "<div>\n",
       "<style scoped>\n",
       "    .dataframe tbody tr th:only-of-type {\n",
       "        vertical-align: middle;\n",
       "    }\n",
       "\n",
       "    .dataframe tbody tr th {\n",
       "        vertical-align: top;\n",
       "    }\n",
       "\n",
       "    .dataframe thead th {\n",
       "        text-align: right;\n",
       "    }\n",
       "</style>\n",
       "<table border=\"1\" class=\"dataframe\">\n",
       "  <thead>\n",
       "    <tr style=\"text-align: right;\">\n",
       "      <th></th>\n",
       "      <th>Name</th>\n",
       "      <th>WHO Region</th>\n",
       "      <th>Cases - cumulative total</th>\n",
       "      <th>Cases - cumulative total per 100000 population</th>\n",
       "      <th>Cases - newly reported in last 7 days</th>\n",
       "      <th>Cases - newly reported in last 7 days per 100000 population</th>\n",
       "      <th>Cases - newly reported in last 24 hours</th>\n",
       "      <th>Deaths - cumulative total</th>\n",
       "      <th>Deaths - cumulative total per 100000 population</th>\n",
       "      <th>Deaths - newly reported in last 7 days</th>\n",
       "      <th>Deaths - newly reported in last 7 days per 100000 population</th>\n",
       "      <th>Deaths - newly reported in last 24 hours</th>\n",
       "      <th>Transmission Classification</th>\n",
       "    </tr>\n",
       "  </thead>\n",
       "  <tbody>\n",
       "    <tr>\n",
       "      <th>0</th>\n",
       "      <td>Global</td>\n",
       "      <td>Global</td>\n",
       "      <td>178503429</td>\n",
       "      <td>2290.108471</td>\n",
       "      <td>2504100</td>\n",
       "      <td>32.126333</td>\n",
       "      <td>281610</td>\n",
       "      <td>3872457</td>\n",
       "      <td>49.681659</td>\n",
       "      <td>60068</td>\n",
       "      <td>0.770642</td>\n",
       "      <td>6349</td>\n",
       "      <td>NaN</td>\n",
       "    </tr>\n",
       "    <tr>\n",
       "      <th>1</th>\n",
       "      <td>United States of America</td>\n",
       "      <td>Americas</td>\n",
       "      <td>33190195</td>\n",
       "      <td>10027.170000</td>\n",
       "      <td>49697</td>\n",
       "      <td>15.010000</td>\n",
       "      <td>0</td>\n",
       "      <td>596003</td>\n",
       "      <td>180.060000</td>\n",
       "      <td>1359</td>\n",
       "      <td>0.410000</td>\n",
       "      <td>0</td>\n",
       "      <td>Community transmission</td>\n",
       "    </tr>\n",
       "    <tr>\n",
       "      <th>2</th>\n",
       "      <td>India</td>\n",
       "      <td>South-East Asia</td>\n",
       "      <td>29977861</td>\n",
       "      <td>2172.300000</td>\n",
       "      <td>406980</td>\n",
       "      <td>29.490000</td>\n",
       "      <td>42640</td>\n",
       "      <td>389302</td>\n",
       "      <td>28.210000</td>\n",
       "      <td>12271</td>\n",
       "      <td>0.890000</td>\n",
       "      <td>1167</td>\n",
       "      <td>Clusters of cases</td>\n",
       "    </tr>\n",
       "    <tr>\n",
       "      <th>3</th>\n",
       "      <td>Brazil</td>\n",
       "      <td>Americas</td>\n",
       "      <td>17927928</td>\n",
       "      <td>8434.310000</td>\n",
       "      <td>515162</td>\n",
       "      <td>242.360000</td>\n",
       "      <td>44178</td>\n",
       "      <td>501825</td>\n",
       "      <td>236.090000</td>\n",
       "      <td>14424</td>\n",
       "      <td>6.790000</td>\n",
       "      <td>1025</td>\n",
       "      <td>Community transmission</td>\n",
       "    </tr>\n",
       "    <tr>\n",
       "      <th>4</th>\n",
       "      <td>France</td>\n",
       "      <td>Europe</td>\n",
       "      <td>5650315</td>\n",
       "      <td>8687.530000</td>\n",
       "      <td>14066</td>\n",
       "      <td>21.630000</td>\n",
       "      <td>290</td>\n",
       "      <td>109879</td>\n",
       "      <td>168.940000</td>\n",
       "      <td>307</td>\n",
       "      <td>0.470000</td>\n",
       "      <td>39</td>\n",
       "      <td>Community transmission</td>\n",
       "    </tr>\n",
       "  </tbody>\n",
       "</table>\n",
       "</div>"
      ],
      "text/plain": [
       "                       Name       WHO Region  Cases - cumulative total  \\\n",
       "0                    Global           Global                 178503429   \n",
       "1  United States of America         Americas                  33190195   \n",
       "2                     India  South-East Asia                  29977861   \n",
       "3                    Brazil         Americas                  17927928   \n",
       "4                    France           Europe                   5650315   \n",
       "\n",
       "   Cases - cumulative total per 100000 population  \\\n",
       "0                                     2290.108471   \n",
       "1                                    10027.170000   \n",
       "2                                     2172.300000   \n",
       "3                                     8434.310000   \n",
       "4                                     8687.530000   \n",
       "\n",
       "   Cases - newly reported in last 7 days  \\\n",
       "0                                2504100   \n",
       "1                                  49697   \n",
       "2                                 406980   \n",
       "3                                 515162   \n",
       "4                                  14066   \n",
       "\n",
       "   Cases - newly reported in last 7 days per 100000 population  \\\n",
       "0                                          32.126333             \n",
       "1                                          15.010000             \n",
       "2                                          29.490000             \n",
       "3                                         242.360000             \n",
       "4                                          21.630000             \n",
       "\n",
       "   Cases - newly reported in last 24 hours  Deaths - cumulative total  \\\n",
       "0                                   281610                    3872457   \n",
       "1                                        0                     596003   \n",
       "2                                    42640                     389302   \n",
       "3                                    44178                     501825   \n",
       "4                                      290                     109879   \n",
       "\n",
       "   Deaths - cumulative total per 100000 population  \\\n",
       "0                                        49.681659   \n",
       "1                                       180.060000   \n",
       "2                                        28.210000   \n",
       "3                                       236.090000   \n",
       "4                                       168.940000   \n",
       "\n",
       "   Deaths - newly reported in last 7 days  \\\n",
       "0                                   60068   \n",
       "1                                    1359   \n",
       "2                                   12271   \n",
       "3                                   14424   \n",
       "4                                     307   \n",
       "\n",
       "   Deaths - newly reported in last 7 days per 100000 population  \\\n",
       "0                                           0.770642              \n",
       "1                                           0.410000              \n",
       "2                                           0.890000              \n",
       "3                                           6.790000              \n",
       "4                                           0.470000              \n",
       "\n",
       "   Deaths - newly reported in last 24 hours Transmission Classification  \n",
       "0                                      6349                         NaN  \n",
       "1                                         0      Community transmission  \n",
       "2                                      1167           Clusters of cases  \n",
       "3                                      1025      Community transmission  \n",
       "4                                        39      Community transmission  "
      ]
     },
     "execution_count": 2,
     "metadata": {},
     "output_type": "execute_result"
    }
   ],
   "source": [
    "df=pd.read_csv('covid.csv')\n",
    "df.head()"
   ]
  },
  {
   "cell_type": "markdown",
   "metadata": {},
   "source": [
    "# Analysis of the data"
   ]
  },
  {
   "cell_type": "code",
   "execution_count": 3,
   "metadata": {},
   "outputs": [
    {
     "data": {
      "text/plain": [
       "(238, 13)"
      ]
     },
     "execution_count": 3,
     "metadata": {},
     "output_type": "execute_result"
    }
   ],
   "source": [
    "df.shape"
   ]
  },
  {
   "cell_type": "code",
   "execution_count": 4,
   "metadata": {},
   "outputs": [
    {
     "name": "stdout",
     "output_type": "stream",
     "text": [
      "<class 'pandas.core.frame.DataFrame'>\n",
      "RangeIndex: 238 entries, 0 to 237\n",
      "Data columns (total 13 columns):\n",
      " #   Column                                                        Non-Null Count  Dtype  \n",
      "---  ------                                                        --------------  -----  \n",
      " 0   Name                                                          238 non-null    object \n",
      " 1   WHO Region                                                    238 non-null    object \n",
      " 2   Cases - cumulative total                                      238 non-null    int64  \n",
      " 3   Cases - cumulative total per 100000 population                237 non-null    float64\n",
      " 4   Cases - newly reported in last 7 days                         238 non-null    int64  \n",
      " 5   Cases - newly reported in last 7 days per 100000 population   237 non-null    float64\n",
      " 6   Cases - newly reported in last 24 hours                       238 non-null    int64  \n",
      " 7   Deaths - cumulative total                                     238 non-null    int64  \n",
      " 8   Deaths - cumulative total per 100000 population               237 non-null    float64\n",
      " 9   Deaths - newly reported in last 7 days                        238 non-null    int64  \n",
      " 10  Deaths - newly reported in last 7 days per 100000 population  237 non-null    float64\n",
      " 11  Deaths - newly reported in last 24 hours                      238 non-null    int64  \n",
      " 12  Transmission Classification                                   237 non-null    object \n",
      "dtypes: float64(4), int64(6), object(3)\n",
      "memory usage: 24.3+ KB\n"
     ]
    }
   ],
   "source": [
    "df.info()"
   ]
  },
  {
   "cell_type": "code",
   "execution_count": 5,
   "metadata": {},
   "outputs": [
    {
     "data": {
      "text/html": [
       "<div>\n",
       "<style scoped>\n",
       "    .dataframe tbody tr th:only-of-type {\n",
       "        vertical-align: middle;\n",
       "    }\n",
       "\n",
       "    .dataframe tbody tr th {\n",
       "        vertical-align: top;\n",
       "    }\n",
       "\n",
       "    .dataframe thead th {\n",
       "        text-align: right;\n",
       "    }\n",
       "</style>\n",
       "<table border=\"1\" class=\"dataframe\">\n",
       "  <thead>\n",
       "    <tr style=\"text-align: right;\">\n",
       "      <th></th>\n",
       "      <th>Cases - cumulative total</th>\n",
       "      <th>Cases - cumulative total per 100000 population</th>\n",
       "      <th>Cases - newly reported in last 7 days</th>\n",
       "      <th>Cases - newly reported in last 7 days per 100000 population</th>\n",
       "      <th>Cases - newly reported in last 24 hours</th>\n",
       "      <th>Deaths - cumulative total</th>\n",
       "      <th>Deaths - cumulative total per 100000 population</th>\n",
       "      <th>Deaths - newly reported in last 7 days</th>\n",
       "      <th>Deaths - newly reported in last 7 days per 100000 population</th>\n",
       "      <th>Deaths - newly reported in last 24 hours</th>\n",
       "    </tr>\n",
       "  </thead>\n",
       "  <tbody>\n",
       "    <tr>\n",
       "      <th>count</th>\n",
       "      <td>2.380000e+02</td>\n",
       "      <td>237.000000</td>\n",
       "      <td>2.380000e+02</td>\n",
       "      <td>237.000000</td>\n",
       "      <td>238.000000</td>\n",
       "      <td>2.380000e+02</td>\n",
       "      <td>237.000000</td>\n",
       "      <td>238.000000</td>\n",
       "      <td>237.000000</td>\n",
       "      <td>238.000000</td>\n",
       "    </tr>\n",
       "    <tr>\n",
       "      <th>mean</th>\n",
       "      <td>1.500029e+06</td>\n",
       "      <td>3446.690542</td>\n",
       "      <td>2.104286e+04</td>\n",
       "      <td>47.293951</td>\n",
       "      <td>2366.470588</td>\n",
       "      <td>3.254166e+04</td>\n",
       "      <td>58.113889</td>\n",
       "      <td>504.773109</td>\n",
       "      <td>0.807260</td>\n",
       "      <td>53.352941</td>\n",
       "    </tr>\n",
       "    <tr>\n",
       "      <th>std</th>\n",
       "      <td>1.196175e+07</td>\n",
       "      <td>3935.647056</td>\n",
       "      <td>1.682336e+05</td>\n",
       "      <td>103.720502</td>\n",
       "      <td>18788.044344</td>\n",
       "      <td>2.575600e+05</td>\n",
       "      <td>79.481695</td>\n",
       "      <td>4089.884322</td>\n",
       "      <td>1.787598</td>\n",
       "      <td>426.447480</td>\n",
       "    </tr>\n",
       "    <tr>\n",
       "      <th>min</th>\n",
       "      <td>0.000000e+00</td>\n",
       "      <td>0.000000</td>\n",
       "      <td>0.000000e+00</td>\n",
       "      <td>0.000000</td>\n",
       "      <td>0.000000</td>\n",
       "      <td>0.000000e+00</td>\n",
       "      <td>0.000000</td>\n",
       "      <td>0.000000</td>\n",
       "      <td>0.000000</td>\n",
       "      <td>0.000000</td>\n",
       "    </tr>\n",
       "    <tr>\n",
       "      <th>25%</th>\n",
       "      <td>3.863250e+03</td>\n",
       "      <td>232.210000</td>\n",
       "      <td>1.525000e+01</td>\n",
       "      <td>1.140000</td>\n",
       "      <td>0.000000</td>\n",
       "      <td>3.825000e+01</td>\n",
       "      <td>2.150000</td>\n",
       "      <td>0.000000</td>\n",
       "      <td>0.000000</td>\n",
       "      <td>0.000000</td>\n",
       "    </tr>\n",
       "    <tr>\n",
       "      <th>50%</th>\n",
       "      <td>4.003150e+04</td>\n",
       "      <td>1808.790000</td>\n",
       "      <td>3.565000e+02</td>\n",
       "      <td>10.880000</td>\n",
       "      <td>28.500000</td>\n",
       "      <td>7.285000e+02</td>\n",
       "      <td>21.670000</td>\n",
       "      <td>5.000000</td>\n",
       "      <td>0.090000</td>\n",
       "      <td>0.000000</td>\n",
       "    </tr>\n",
       "    <tr>\n",
       "      <th>75%</th>\n",
       "      <td>3.413772e+05</td>\n",
       "      <td>6207.970000</td>\n",
       "      <td>3.944500e+03</td>\n",
       "      <td>39.110000</td>\n",
       "      <td>396.500000</td>\n",
       "      <td>5.379000e+03</td>\n",
       "      <td>85.270000</td>\n",
       "      <td>65.000000</td>\n",
       "      <td>0.650000</td>\n",
       "      <td>6.750000</td>\n",
       "    </tr>\n",
       "    <tr>\n",
       "      <th>max</th>\n",
       "      <td>1.785034e+08</td>\n",
       "      <td>17943.440000</td>\n",
       "      <td>2.504100e+06</td>\n",
       "      <td>1006.640000</td>\n",
       "      <td>281610.000000</td>\n",
       "      <td>3.872457e+06</td>\n",
       "      <td>577.540000</td>\n",
       "      <td>60068.000000</td>\n",
       "      <td>11.200000</td>\n",
       "      <td>6349.000000</td>\n",
       "    </tr>\n",
       "  </tbody>\n",
       "</table>\n",
       "</div>"
      ],
      "text/plain": [
       "       Cases - cumulative total  \\\n",
       "count              2.380000e+02   \n",
       "mean               1.500029e+06   \n",
       "std                1.196175e+07   \n",
       "min                0.000000e+00   \n",
       "25%                3.863250e+03   \n",
       "50%                4.003150e+04   \n",
       "75%                3.413772e+05   \n",
       "max                1.785034e+08   \n",
       "\n",
       "       Cases - cumulative total per 100000 population  \\\n",
       "count                                      237.000000   \n",
       "mean                                      3446.690542   \n",
       "std                                       3935.647056   \n",
       "min                                          0.000000   \n",
       "25%                                        232.210000   \n",
       "50%                                       1808.790000   \n",
       "75%                                       6207.970000   \n",
       "max                                      17943.440000   \n",
       "\n",
       "       Cases - newly reported in last 7 days  \\\n",
       "count                           2.380000e+02   \n",
       "mean                            2.104286e+04   \n",
       "std                             1.682336e+05   \n",
       "min                             0.000000e+00   \n",
       "25%                             1.525000e+01   \n",
       "50%                             3.565000e+02   \n",
       "75%                             3.944500e+03   \n",
       "max                             2.504100e+06   \n",
       "\n",
       "       Cases - newly reported in last 7 days per 100000 population  \\\n",
       "count                                         237.000000             \n",
       "mean                                           47.293951             \n",
       "std                                           103.720502             \n",
       "min                                             0.000000             \n",
       "25%                                             1.140000             \n",
       "50%                                            10.880000             \n",
       "75%                                            39.110000             \n",
       "max                                          1006.640000             \n",
       "\n",
       "       Cases - newly reported in last 24 hours  Deaths - cumulative total  \\\n",
       "count                               238.000000               2.380000e+02   \n",
       "mean                               2366.470588               3.254166e+04   \n",
       "std                               18788.044344               2.575600e+05   \n",
       "min                                   0.000000               0.000000e+00   \n",
       "25%                                   0.000000               3.825000e+01   \n",
       "50%                                  28.500000               7.285000e+02   \n",
       "75%                                 396.500000               5.379000e+03   \n",
       "max                              281610.000000               3.872457e+06   \n",
       "\n",
       "       Deaths - cumulative total per 100000 population  \\\n",
       "count                                       237.000000   \n",
       "mean                                         58.113889   \n",
       "std                                          79.481695   \n",
       "min                                           0.000000   \n",
       "25%                                           2.150000   \n",
       "50%                                          21.670000   \n",
       "75%                                          85.270000   \n",
       "max                                         577.540000   \n",
       "\n",
       "       Deaths - newly reported in last 7 days  \\\n",
       "count                              238.000000   \n",
       "mean                               504.773109   \n",
       "std                               4089.884322   \n",
       "min                                  0.000000   \n",
       "25%                                  0.000000   \n",
       "50%                                  5.000000   \n",
       "75%                                 65.000000   \n",
       "max                              60068.000000   \n",
       "\n",
       "       Deaths - newly reported in last 7 days per 100000 population  \\\n",
       "count                                         237.000000              \n",
       "mean                                            0.807260              \n",
       "std                                             1.787598              \n",
       "min                                             0.000000              \n",
       "25%                                             0.000000              \n",
       "50%                                             0.090000              \n",
       "75%                                             0.650000              \n",
       "max                                            11.200000              \n",
       "\n",
       "       Deaths - newly reported in last 24 hours  \n",
       "count                                238.000000  \n",
       "mean                                  53.352941  \n",
       "std                                  426.447480  \n",
       "min                                    0.000000  \n",
       "25%                                    0.000000  \n",
       "50%                                    0.000000  \n",
       "75%                                    6.750000  \n",
       "max                                 6349.000000  "
      ]
     },
     "execution_count": 5,
     "metadata": {},
     "output_type": "execute_result"
    }
   ],
   "source": [
    "df.describe()"
   ]
  },
  {
   "cell_type": "code",
   "execution_count": 40,
   "metadata": {},
   "outputs": [],
   "source": [
    "df.isnull().sum()\n",
    "df['Transmission Classification'].fillna(df['Transmission Classification'].mode(),inplace=True)"
   ]
  },
  {
   "cell_type": "code",
   "execution_count": 41,
   "metadata": {},
   "outputs": [
    {
     "data": {
      "text/plain": [
       "['Name', 'WHO Region', 'Transmission Classification']"
      ]
     },
     "execution_count": 41,
     "metadata": {},
     "output_type": "execute_result"
    }
   ],
   "source": [
    "# first of all lets make the list the categorical data\n",
    "df_category=[feature for feature in df.columns if df[feature].dtype=='O']\n",
    "df_category"
   ]
  },
  {
   "cell_type": "code",
   "execution_count": 42,
   "metadata": {},
   "outputs": [
    {
     "name": "stderr",
     "output_type": "stream",
     "text": [
      "/home/suman/anaconda3/lib/python3.8/site-packages/seaborn/_decorators.py:36: FutureWarning: Pass the following variable as a keyword arg: x. From version 0.12, the only valid positional argument will be `data`, and passing other arguments without an explicit keyword will result in an error or misinterpretation.\n",
      "  warnings.warn(\n"
     ]
    },
    {
     "data": {
      "image/png": "[encoded data removed]",
      "text/plain": [
       "<Figure size 1080x720 with 1 Axes>"
      ]
     },
     "metadata": {
      "needs_background": "light"
     },
     "output_type": "display_data"
    },
    {
     "name": "stderr",
     "output_type": "stream",
     "text": [
      "/home/suman/anaconda3/lib/python3.8/site-packages/seaborn/_decorators.py:36: FutureWarning: Pass the following variable as a keyword arg: x. From version 0.12, the only valid positional argument will be `data`, and passing other arguments without an explicit keyword will result in an error or misinterpretation.\n",
      "  warnings.warn(\n"
     ]
    },
    {
     "data": {
      "image/png": "[encoded data removed]",
      "text/plain": [
       "<Figure size 432x288 with 1 Axes>"
      ]
     },
     "metadata": {
      "needs_background": "light"
     },
     "output_type": "display_data"
    }
   ],
   "source": [
    "plt.figure(figsize=(15,10))\n",
    "for category in df_category:\n",
    "    if category!='Name':\n",
    "        sns.countplot(df[category])\n",
    "        plt.show()"
   ]
  },
  {
   "cell_type": "code",
   "execution_count": 43,
   "metadata": {},
   "outputs": [
    {
     "data": {
      "text/plain": [
       "['Cases - cumulative total',\n",
       " 'Cases - cumulative total per 100000 population',\n",
       " 'Cases - newly reported in last 7 days',\n",
       " 'Cases - newly reported in last 7 days per 100000 population',\n",
       " 'Cases - newly reported in last 24 hours',\n",
       " 'Deaths - cumulative total',\n",
       " 'Deaths - cumulative total per 100000 population',\n",
       " 'Deaths - newly reported in last 7 days',\n",
       " 'Deaths - newly reported in last 7 days per 100000 population',\n",
       " 'Deaths - newly reported in last 24 hours']"
      ]
     },
     "execution_count": 43,
     "metadata": {},
     "output_type": "execute_result"
    }
   ],
   "source": [
    "df_numeric=[feature for feature in df.columns if feature not in df_category]\n",
    "df_numeric"
   ]
  },
  {
   "cell_type": "code",
   "execution_count": 44,
   "metadata": {},
   "outputs": [
    {
     "data": {
      "text/plain": [
       "array([178503429,  33190195,  29977861,  17927928,   5650315,   5375593,\n",
       "         5350919,   4640511,   4268789,   4253460,   3945166,   3764651,\n",
       "         3722782,   3105620,   2879030,   2477283,   2230142,   2029625,\n",
       "         2018113,   1832479,   1679542,   1666192,   1522223,   1408835,\n",
       "         1364239,   1292700,   1084636,   1080323,   1079640,    949175,\n",
       "          865806,    861150,    840032,    807684,    786298,    747000,\n",
       "          715841,    701019,    698872,    645609,    626343,    613993,\n",
       "          543551,    526737,    475403,    466125,    446633,    422047,\n",
       "          421152,    418548,    411153,    406220,    393727,    391385,\n",
       "          385428,    360055,    359259,    354865,    353298,    341514,\n",
       "          340967,    335521,    317645,    291801,    280854,    278466,\n",
       "          277797,    275194,    269321,    263295,    260740,    257001,\n",
       "          256187,    253875,    250572,    241820,    225365,    224330,\n",
       "          220930,    204860,    191038,    179293,    169365,    167378,\n",
       "          155627,    151901,    149247,    139753,    136850,    136294,\n",
       "          132490,    130855,    130631,    129545,    117651,    116546,\n",
       "          107612,    106847,    105749,    100083,     95819,     95059,\n",
       "           94379,     80487,     77484,     75766,     73710,     72679,\n",
       "           72577,     72149,     70535,     68387,     62430,     49712,\n",
       "           48047,     43446,     42437,     42195,     42137,     37926,\n",
       "           37748,     36347,     34914,     32039,     30813,     30619,\n",
       "           30590,     30356,     28441,     26647,     25158,     24736,\n",
       "           23450,     20365,     20025,     19389,     19096,     18972,\n",
       "           18831,     17427,     17061,     17038,     14867,     14620,\n",
       "           14386,     13864,     13731,     13731,     13530,     13469,\n",
       "           13004,     12404,     12364,     12318,     12199,     11591,\n",
       "           11108,     11107,     10786,      8781,      8708,      8140,\n",
       "            8029,      7137,      6889,      6630,      6243,      6045,\n",
       "            5469,      5421,      5273,      5216,      5091,      4947,\n",
       "            4879,      4321,      4045,      3978,      3825,      3768,\n",
       "            3301,      3122,      3109,      2570,      2549,      2504,\n",
       "            2424,      2363,      2362,      2314,      2195,      2090,\n",
       "            2054,      1963,      1820,      1606,      1599,      1263,\n",
       "            1040,       827,       768,       764,       608,       509,\n",
       "             454,       341,       295,       255,       191,       183,\n",
       "             161,       129,       109,        63,        50,        26,\n",
       "              26,        20,        20,        20,         7,         4,\n",
       "               3,         1,         0,         0,         0,         0,\n",
       "               0,         0,         0,         0,         0,         0,\n",
       "               0,         0,         0,         0])"
      ]
     },
     "execution_count": 44,
     "metadata": {},
     "output_type": "execute_result"
    }
   ],
   "source": [
    "df['Cases - cumulative total'].values"
   ]
  },
  {
   "cell_type": "code",
   "execution_count": 45,
   "metadata": {},
   "outputs": [
    {
     "data": {
      "text/plain": [
       "['Cases - cumulative total',\n",
       " 'Cases - cumulative total per 100000 population',\n",
       " 'Cases - newly reported in last 7 days',\n",
       " 'Cases - newly reported in last 7 days per 100000 population',\n",
       " 'Cases - newly reported in last 24 hours',\n",
       " 'Deaths - cumulative total',\n",
       " 'Deaths - cumulative total per 100000 population',\n",
       " 'Deaths - newly reported in last 7 days',\n",
       " 'Deaths - newly reported in last 7 days per 100000 population',\n",
       " 'Deaths - newly reported in last 24 hours']"
      ]
     },
     "execution_count": 45,
     "metadata": {},
     "output_type": "execute_result"
    }
   ],
   "source": [
    "df_cont=[feature for feature in df_numeric if len(df[feature].values)>15]\n",
    "df_cont"
   ]
  },
  {
   "cell_type": "code",
   "execution_count": 46,
   "metadata": {},
   "outputs": [
    {
     "name": "stderr",
     "output_type": "stream",
     "text": [
      "/home/suman/anaconda3/lib/python3.8/site-packages/seaborn/distributions.py:2551: FutureWarning: `distplot` is a deprecated function and will be removed in a future version. Please adapt your code to use either `displot` (a figure-level function with similar flexibility) or `histplot` (an axes-level function for histograms).\n",
      "  warnings.warn(msg, FutureWarning)\n"
     ]
    },
    {
     "data": {
      "image/png": "[encoded data removed]",
      "text/plain": [
       "<Figure size 432x288 with 1 Axes>"
      ]
     },
     "metadata": {
      "needs_background": "light"
     },
     "output_type": "display_data"
    },
    {
     "name": "stderr",
     "output_type": "stream",
     "text": [
      "/home/suman/anaconda3/lib/python3.8/site-packages/seaborn/distributions.py:2551: FutureWarning: `distplot` is a deprecated function and will be removed in a future version. Please adapt your code to use either `displot` (a figure-level function with similar flexibility) or `histplot` (an axes-level function for histograms).\n",
      "  warnings.warn(msg, FutureWarning)\n"
     ]
    },
    {
     "data": {
      "image/png": "[encoded data removed]",
      "text/plain": [
       "<Figure size 432x288 with 1 Axes>"
      ]
     },
     "metadata": {
      "needs_background": "light"
     },
     "output_type": "display_data"
    },
    {
     "name": "stderr",
     "output_type": "stream",
     "text": [
      "/home/suman/anaconda3/lib/python3.8/site-packages/seaborn/distributions.py:2551: FutureWarning: `distplot` is a deprecated function and will be removed in a future version. Please adapt your code to use either `displot` (a figure-level function with similar flexibility) or `histplot` (an axes-level function for histograms).\n",
      "  warnings.warn(msg, FutureWarning)\n"
     ]
    },
    {
     "data": {
      "image/png": "[encoded data removed]",
      "text/plain": [
       "<Figure size 432x288 with 1 Axes>"
      ]
     },
     "metadata": {
      "needs_background": "light"
     },
     "output_type": "display_data"
    },
    {
     "name": "stderr",
     "output_type": "stream",
     "text": [
      "/home/suman/anaconda3/lib/python3.8/site-packages/seaborn/distributions.py:2551: FutureWarning: `distplot` is a deprecated function and will be removed in a future version. Please adapt your code to use either `displot` (a figure-level function with similar flexibility) or `histplot` (an axes-level function for histograms).\n",
      "  warnings.warn(msg, FutureWarning)\n"
     ]
    },
    {
     "data": {
      "image/png": "[encoded data removed]",
      "text/plain": [
       "<Figure size 432x288 with 1 Axes>"
      ]
     },
     "metadata": {
      "needs_background": "light"
     },
     "output_type": "display_data"
    },
    {
     "name": "stderr",
     "output_type": "stream",
     "text": [
      "/home/suman/anaconda3/lib/python3.8/site-packages/seaborn/distributions.py:2551: FutureWarning: `distplot` is a deprecated function and will be removed in a future version. Please adapt your code to use either `displot` (a figure-level function with similar flexibility) or `histplot` (an axes-level function for histograms).\n",
      "  warnings.warn(msg, FutureWarning)\n"
     ]
    },
    {
     "data": {
      "image/png": "[encoded data removed]",
      "text/plain": [
       "<Figure size 432x288 with 1 Axes>"
      ]
     },
     "metadata": {
      "needs_background": "light"
     },
     "output_type": "display_data"
    },
    {
     "name": "stderr",
     "output_type": "stream",
     "text": [
      "/home/suman/anaconda3/lib/python3.8/site-packages/seaborn/distributions.py:2551: FutureWarning: `distplot` is a deprecated function and will be removed in a future version. Please adapt your code to use either `displot` (a figure-level function with similar flexibility) or `histplot` (an axes-level function for histograms).\n",
      "  warnings.warn(msg, FutureWarning)\n"
     ]
    },
    {
     "data": {
      "image/png": "[encoded data removed]",
      "text/plain": [
       "<Figure size 432x288 with 1 Axes>"
      ]
     },
     "metadata": {
      "needs_background": "light"
     },
     "output_type": "display_data"
    },
    {
     "name": "stderr",
     "output_type": "stream",
     "text": [
      "/home/suman/anaconda3/lib/python3.8/site-packages/seaborn/distributions.py:2551: FutureWarning: `distplot` is a deprecated function and will be removed in a future version. Please adapt your code to use either `displot` (a figure-level function with similar flexibility) or `histplot` (an axes-level function for histograms).\n",
      "  warnings.warn(msg, FutureWarning)\n"
     ]
    },
    {
     "data": {
      "image/png": "[encoded data removed]",
      "text/plain": [
       "<Figure size 432x288 with 1 Axes>"
      ]
     },
     "metadata": {
      "needs_background": "light"
     },
     "output_type": "display_data"
    },
    {
     "name": "stderr",
     "output_type": "stream",
     "text": [
      "/home/suman/anaconda3/lib/python3.8/site-packages/seaborn/distributions.py:2551: FutureWarning: `distplot` is a deprecated function and will be removed in a future version. Please adapt your code to use either `displot` (a figure-level function with similar flexibility) or `histplot` (an axes-level function for histograms).\n",
      "  warnings.warn(msg, FutureWarning)\n"
     ]
    },
    {
     "data": {
      "image/png": "[encoded data removed]",
      "text/plain": [
       "<Figure size 432x288 with 1 Axes>"
      ]
     },
     "metadata": {
      "needs_background": "light"
     },
     "output_type": "display_data"
    },
    {
     "name": "stderr",
     "output_type": "stream",
     "text": [
      "/home/suman/anaconda3/lib/python3.8/site-packages/seaborn/distributions.py:2551: FutureWarning: `distplot` is a deprecated function and will be removed in a future version. Please adapt your code to use either `displot` (a figure-level function with similar flexibility) or `histplot` (an axes-level function for histograms).\n",
      "  warnings.warn(msg, FutureWarning)\n"
     ]
    },
    {
     "data": {
      "image/png": "[encoded data removed]",
      "text/plain": [
       "<Figure size 432x288 with 1 Axes>"
      ]
     },
     "metadata": {
      "needs_background": "light"
     },
     "output_type": "display_data"
    },
    {
     "name": "stderr",
     "output_type": "stream",
     "text": [
      "/home/suman/anaconda3/lib/python3.8/site-packages/seaborn/distributions.py:2551: FutureWarning: `distplot` is a deprecated function and will be removed in a future version. Please adapt your code to use either `displot` (a figure-level function with similar flexibility) or `histplot` (an axes-level function for histograms).\n",
      "  warnings.warn(msg, FutureWarning)\n"
     ]
    },
    {
     "data": {
      "image/png": "[encoded data removed]",
      "text/plain": [
       "<Figure size 432x288 with 1 Axes>"
      ]
     },
     "metadata": {
      "needs_background": "light"
     },
     "output_type": "display_data"
    }
   ],
   "source": [
    "#lets plot histogram for continuous data and see if the data is normal or not\n",
    "for feature in df_cont:\n",
    "    sns.distplot(df[feature],bins=25)\n",
    "    plt.show()"
   ]
  },
  {
   "cell_type": "code",
   "execution_count": null,
   "metadata": {},
   "outputs": [],
   "source": []
  },
  {
   "cell_type": "code",
   "execution_count": 47,
   "metadata": {},
   "outputs": [],
   "source": [
    "from sklearn.preprocessing import StandardScaler\n",
    "scalar=StandardScaler()"
   ]
  },
  {
   "cell_type": "code",
   "execution_count": 48,
   "metadata": {},
   "outputs": [
    {
     "data": {
      "text/plain": [
       "['Cases - cumulative total',\n",
       " 'Cases - cumulative total per 100000 population',\n",
       " 'Cases - newly reported in last 7 days',\n",
       " 'Cases - newly reported in last 7 days per 100000 population',\n",
       " 'Cases - newly reported in last 24 hours',\n",
       " 'Deaths - cumulative total',\n",
       " 'Deaths - cumulative total per 100000 population',\n",
       " 'Deaths - newly reported in last 7 days',\n",
       " 'Deaths - newly reported in last 7 days per 100000 population',\n",
       " 'Deaths - newly reported in last 24 hours']"
      ]
     },
     "execution_count": 48,
     "metadata": {},
     "output_type": "execute_result"
    }
   ],
   "source": [
    "features=[feature for feature in df.columns if df[feature].dtypes!='O']\n",
    "features"
   ]
  },
  {
   "cell_type": "code",
   "execution_count": 49,
   "metadata": {},
   "outputs": [
    {
     "data": {
      "text/plain": [
       "array([[14.82863663, -0.29449538, 14.79068571, ..., 14.5942405 ,\n",
       "        -0.02052789, 14.79411964],\n",
       "       [ 2.65487532,  1.67555838,  0.17068251, ...,  0.20930351,\n",
       "        -0.22270157, -0.1253739 ],\n",
       "       [ 2.38575883, -0.32449243,  2.2988899 , ...,  2.8829725 ,\n",
       "         0.04638348,  2.61695544],\n",
       "       ...,\n",
       "       [-0.12566641, -0.87761557, -0.12534479, ..., -0.12368   ,\n",
       "        -0.45254505, -0.1253739 ],\n",
       "       [-0.12566641, -0.87761557, -0.12534479, ..., -0.12368   ,\n",
       "        -0.45254505, -0.1253739 ],\n",
       "       [-0.12566641, -0.87761557, -0.12534479, ..., -0.12368   ,\n",
       "        -0.45254505, -0.1253739 ]])"
      ]
     },
     "execution_count": 49,
     "metadata": {},
     "output_type": "execute_result"
    }
   ],
   "source": [
    "scaled=scalar.fit_transform(df[features])\n",
    "scaled"
   ]
  },
  {
   "cell_type": "code",
   "execution_count": 50,
   "metadata": {},
   "outputs": [
    {
     "data": {
      "text/html": [
       "<div>\n",
       "<style scoped>\n",
       "    .dataframe tbody tr th:only-of-type {\n",
       "        vertical-align: middle;\n",
       "    }\n",
       "\n",
       "    .dataframe tbody tr th {\n",
       "        vertical-align: top;\n",
       "    }\n",
       "\n",
       "    .dataframe thead th {\n",
       "        text-align: right;\n",
       "    }\n",
       "</style>\n",
       "<table border=\"1\" class=\"dataframe\">\n",
       "  <thead>\n",
       "    <tr style=\"text-align: right;\">\n",
       "      <th></th>\n",
       "      <th>Cases - cumulative total</th>\n",
       "      <th>Cases - cumulative total per 100000 population</th>\n",
       "      <th>Cases - newly reported in last 7 days</th>\n",
       "      <th>Cases - newly reported in last 7 days per 100000 population</th>\n",
       "      <th>Cases - newly reported in last 24 hours</th>\n",
       "      <th>Deaths - cumulative total</th>\n",
       "      <th>Deaths - cumulative total per 100000 population</th>\n",
       "      <th>Deaths - newly reported in last 7 days</th>\n",
       "      <th>Deaths - newly reported in last 7 days per 100000 population</th>\n",
       "      <th>Deaths - newly reported in last 24 hours</th>\n",
       "    </tr>\n",
       "  </thead>\n",
       "  <tbody>\n",
       "    <tr>\n",
       "      <th>0</th>\n",
       "      <td>14.828637</td>\n",
       "      <td>-0.294495</td>\n",
       "      <td>14.790686</td>\n",
       "      <td>-0.146545</td>\n",
       "      <td>14.894154</td>\n",
       "      <td>14.940242</td>\n",
       "      <td>-0.106315</td>\n",
       "      <td>14.594241</td>\n",
       "      <td>-0.020528</td>\n",
       "      <td>14.794120</td>\n",
       "    </tr>\n",
       "    <tr>\n",
       "      <th>1</th>\n",
       "      <td>2.654875</td>\n",
       "      <td>1.675558</td>\n",
       "      <td>0.170683</td>\n",
       "      <td>-0.311918</td>\n",
       "      <td>-0.126222</td>\n",
       "      <td>2.192301</td>\n",
       "      <td>1.537514</td>\n",
       "      <td>0.209304</td>\n",
       "      <td>-0.222702</td>\n",
       "      <td>-0.125374</td>\n",
       "    </tr>\n",
       "    <tr>\n",
       "      <th>2</th>\n",
       "      <td>2.385759</td>\n",
       "      <td>-0.324492</td>\n",
       "      <td>2.298890</td>\n",
       "      <td>-0.172016</td>\n",
       "      <td>2.148090</td>\n",
       "      <td>1.388074</td>\n",
       "      <td>-0.377032</td>\n",
       "      <td>2.882972</td>\n",
       "      <td>0.046383</td>\n",
       "      <td>2.616955</td>\n",
       "    </tr>\n",
       "    <tr>\n",
       "      <th>3</th>\n",
       "      <td>1.376264</td>\n",
       "      <td>1.269975</td>\n",
       "      <td>2.943291</td>\n",
       "      <td>1.884670</td>\n",
       "      <td>2.230123</td>\n",
       "      <td>1.825875</td>\n",
       "      <td>2.243948</td>\n",
       "      <td>3.410503</td>\n",
       "      <td>3.353887</td>\n",
       "      <td>2.283270</td>\n",
       "    </tr>\n",
       "    <tr>\n",
       "      <th>4</th>\n",
       "      <td>0.347694</td>\n",
       "      <td>1.334452</td>\n",
       "      <td>-0.041559</td>\n",
       "      <td>-0.247957</td>\n",
       "      <td>-0.110754</td>\n",
       "      <td>0.300902</td>\n",
       "      <td>1.397311</td>\n",
       "      <td>-0.048459</td>\n",
       "      <td>-0.189066</td>\n",
       "      <td>-0.033728</td>\n",
       "    </tr>\n",
       "    <tr>\n",
       "      <th>...</th>\n",
       "      <td>...</td>\n",
       "      <td>...</td>\n",
       "      <td>...</td>\n",
       "      <td>...</td>\n",
       "      <td>...</td>\n",
       "      <td>...</td>\n",
       "      <td>...</td>\n",
       "      <td>...</td>\n",
       "      <td>...</td>\n",
       "      <td>...</td>\n",
       "    </tr>\n",
       "    <tr>\n",
       "      <th>233</th>\n",
       "      <td>-0.125666</td>\n",
       "      <td>-0.877616</td>\n",
       "      <td>-0.125345</td>\n",
       "      <td>-0.456940</td>\n",
       "      <td>-0.126222</td>\n",
       "      <td>-0.126612</td>\n",
       "      <td>-0.732708</td>\n",
       "      <td>-0.123680</td>\n",
       "      <td>-0.452545</td>\n",
       "      <td>-0.125374</td>\n",
       "    </tr>\n",
       "    <tr>\n",
       "      <th>234</th>\n",
       "      <td>-0.125666</td>\n",
       "      <td>-0.877616</td>\n",
       "      <td>-0.125345</td>\n",
       "      <td>-0.456940</td>\n",
       "      <td>-0.126222</td>\n",
       "      <td>-0.126612</td>\n",
       "      <td>-0.732708</td>\n",
       "      <td>-0.123680</td>\n",
       "      <td>-0.452545</td>\n",
       "      <td>-0.125374</td>\n",
       "    </tr>\n",
       "    <tr>\n",
       "      <th>235</th>\n",
       "      <td>-0.125666</td>\n",
       "      <td>-0.877616</td>\n",
       "      <td>-0.125345</td>\n",
       "      <td>-0.456940</td>\n",
       "      <td>-0.126222</td>\n",
       "      <td>-0.126612</td>\n",
       "      <td>-0.732708</td>\n",
       "      <td>-0.123680</td>\n",
       "      <td>-0.452545</td>\n",
       "      <td>-0.125374</td>\n",
       "    </tr>\n",
       "    <tr>\n",
       "      <th>236</th>\n",
       "      <td>-0.125666</td>\n",
       "      <td>-0.877616</td>\n",
       "      <td>-0.125345</td>\n",
       "      <td>-0.456940</td>\n",
       "      <td>-0.126222</td>\n",
       "      <td>-0.126612</td>\n",
       "      <td>-0.732708</td>\n",
       "      <td>-0.123680</td>\n",
       "      <td>-0.452545</td>\n",
       "      <td>-0.125374</td>\n",
       "    </tr>\n",
       "    <tr>\n",
       "      <th>237</th>\n",
       "      <td>-0.125666</td>\n",
       "      <td>-0.877616</td>\n",
       "      <td>-0.125345</td>\n",
       "      <td>-0.456940</td>\n",
       "      <td>-0.126222</td>\n",
       "      <td>-0.126612</td>\n",
       "      <td>-0.732708</td>\n",
       "      <td>-0.123680</td>\n",
       "      <td>-0.452545</td>\n",
       "      <td>-0.125374</td>\n",
       "    </tr>\n",
       "  </tbody>\n",
       "</table>\n",
       "<p>238 rows × 10 columns</p>\n",
       "</div>"
      ],
      "text/plain": [
       "     Cases - cumulative total  Cases - cumulative total per 100000 population  \\\n",
       "0                   14.828637                                       -0.294495   \n",
       "1                    2.654875                                        1.675558   \n",
       "2                    2.385759                                       -0.324492   \n",
       "3                    1.376264                                        1.269975   \n",
       "4                    0.347694                                        1.334452   \n",
       "..                        ...                                             ...   \n",
       "233                 -0.125666                                       -0.877616   \n",
       "234                 -0.125666                                       -0.877616   \n",
       "235                 -0.125666                                       -0.877616   \n",
       "236                 -0.125666                                       -0.877616   \n",
       "237                 -0.125666                                       -0.877616   \n",
       "\n",
       "     Cases - newly reported in last 7 days  \\\n",
       "0                                14.790686   \n",
       "1                                 0.170683   \n",
       "2                                 2.298890   \n",
       "3                                 2.943291   \n",
       "4                                -0.041559   \n",
       "..                                     ...   \n",
       "233                              -0.125345   \n",
       "234                              -0.125345   \n",
       "235                              -0.125345   \n",
       "236                              -0.125345   \n",
       "237                              -0.125345   \n",
       "\n",
       "     Cases - newly reported in last 7 days per 100000 population  \\\n",
       "0                                            -0.146545             \n",
       "1                                            -0.311918             \n",
       "2                                            -0.172016             \n",
       "3                                             1.884670             \n",
       "4                                            -0.247957             \n",
       "..                                                 ...             \n",
       "233                                          -0.456940             \n",
       "234                                          -0.456940             \n",
       "235                                          -0.456940             \n",
       "236                                          -0.456940             \n",
       "237                                          -0.456940             \n",
       "\n",
       "     Cases - newly reported in last 24 hours  Deaths - cumulative total  \\\n",
       "0                                  14.894154                  14.940242   \n",
       "1                                  -0.126222                   2.192301   \n",
       "2                                   2.148090                   1.388074   \n",
       "3                                   2.230123                   1.825875   \n",
       "4                                  -0.110754                   0.300902   \n",
       "..                                       ...                        ...   \n",
       "233                                -0.126222                  -0.126612   \n",
       "234                                -0.126222                  -0.126612   \n",
       "235                                -0.126222                  -0.126612   \n",
       "236                                -0.126222                  -0.126612   \n",
       "237                                -0.126222                  -0.126612   \n",
       "\n",
       "     Deaths - cumulative total per 100000 population  \\\n",
       "0                                          -0.106315   \n",
       "1                                           1.537514   \n",
       "2                                          -0.377032   \n",
       "3                                           2.243948   \n",
       "4                                           1.397311   \n",
       "..                                               ...   \n",
       "233                                        -0.732708   \n",
       "234                                        -0.732708   \n",
       "235                                        -0.732708   \n",
       "236                                        -0.732708   \n",
       "237                                        -0.732708   \n",
       "\n",
       "     Deaths - newly reported in last 7 days  \\\n",
       "0                                 14.594241   \n",
       "1                                  0.209304   \n",
       "2                                  2.882972   \n",
       "3                                  3.410503   \n",
       "4                                 -0.048459   \n",
       "..                                      ...   \n",
       "233                               -0.123680   \n",
       "234                               -0.123680   \n",
       "235                               -0.123680   \n",
       "236                               -0.123680   \n",
       "237                               -0.123680   \n",
       "\n",
       "     Deaths - newly reported in last 7 days per 100000 population  \\\n",
       "0                                            -0.020528              \n",
       "1                                            -0.222702              \n",
       "2                                             0.046383              \n",
       "3                                             3.353887              \n",
       "4                                            -0.189066              \n",
       "..                                                 ...              \n",
       "233                                          -0.452545              \n",
       "234                                          -0.452545              \n",
       "235                                          -0.452545              \n",
       "236                                          -0.452545              \n",
       "237                                          -0.452545              \n",
       "\n",
       "     Deaths - newly reported in last 24 hours  \n",
       "0                                   14.794120  \n",
       "1                                   -0.125374  \n",
       "2                                    2.616955  \n",
       "3                                    2.283270  \n",
       "4                                   -0.033728  \n",
       "..                                        ...  \n",
       "233                                 -0.125374  \n",
       "234                                 -0.125374  \n",
       "235                                 -0.125374  \n",
       "236                                 -0.125374  \n",
       "237                                 -0.125374  \n",
       "\n",
       "[238 rows x 10 columns]"
      ]
     },
     "execution_count": 50,
     "metadata": {},
     "output_type": "execute_result"
    }
   ],
   "source": [
    "df_scaled=pd.DataFrame(scaled,columns=features)\n",
    "df_scaled"
   ]
  },
  {
   "cell_type": "code",
   "execution_count": 84,
   "metadata": {},
   "outputs": [],
   "source": [
    "df_scaled.isnull().sum()\n",
    "df_scaled['Cases - cumulative total per 100000 population'].fillna(df_scaled['Cases - cumulative total per 100000 population'].mean(),inplace=True)\n",
    "df_scaled['Cases - cumulative total per 100000 population'].isnull().sum()\n",
    "df_scaled['Cases - newly reported in last 7 days per 100000 population'].fillna(df_scaled['Cases - newly reported in last 7 days per 100000 population'].mean(),inplace=True)\n",
    "df_scaled['Deaths - cumulative total per 100000 population'].fillna(df_scaled['Deaths - cumulative total per 100000 population'].mean(),inplace=True)\n",
    "df_scaled['Deaths - newly reported in last 7 days per 100000 population'].fillna(df_scaled['Deaths - newly reported in last 7 days per 100000 population'].mean(),inplace=True)"
   ]
  },
  {
   "cell_type": "code",
   "execution_count": 85,
   "metadata": {},
   "outputs": [],
   "source": [
    "from sklearn.preprocessing import LabelEncoder\n",
    "lbl=LabelEncoder()\n",
    "y=lbl.fit_transform(df['Transmission Classification'])"
   ]
  },
  {
   "cell_type": "code",
   "execution_count": 98,
   "metadata": {},
   "outputs": [],
   "source": [
    "X=df_scaled\n",
    "from sklearn.ensemble import AdaBoostClassifier\n",
    "model=AdaBoostClassifier(n_estimators=30)\n",
    "from sklearn.model_selection import train_test_split\n",
    "x_train,x_test,y_train,y_test=train_test_split(X,y,random_state=3,test_size=0.3)"
   ]
  },
  {
   "cell_type": "code",
   "execution_count": 99,
   "metadata": {},
   "outputs": [
    {
     "data": {
      "text/plain": [
       "(166, 10)"
      ]
     },
     "execution_count": 99,
     "metadata": {},
     "output_type": "execute_result"
    }
   ],
   "source": [
    "x_train.shape"
   ]
  },
  {
   "cell_type": "code",
   "execution_count": 100,
   "metadata": {},
   "outputs": [
    {
     "data": {
      "text/plain": [
       "Cases - cumulative total                                        0\n",
       "Cases - cumulative total per 100000 population                  0\n",
       "Cases - newly reported in last 7 days                           0\n",
       "Cases - newly reported in last 7 days per 100000 population     0\n",
       "Cases - newly reported in last 24 hours                         0\n",
       "Deaths - cumulative total                                       0\n",
       "Deaths - cumulative total per 100000 population                 0\n",
       "Deaths - newly reported in last 7 days                          0\n",
       "Deaths - newly reported in last 7 days per 100000 population    0\n",
       "Deaths - newly reported in last 24 hours                        0\n",
       "dtype: int64"
      ]
     },
     "execution_count": 100,
     "metadata": {},
     "output_type": "execute_result"
    }
   ],
   "source": [
    "x_test.isna().sum()"
   ]
  },
  {
   "cell_type": "code",
   "execution_count": 101,
   "metadata": {
    "scrolled": true
   },
   "outputs": [
    {
     "data": {
      "text/plain": [
       "AdaBoostClassifier(n_estimators=30)"
      ]
     },
     "execution_count": 101,
     "metadata": {},
     "output_type": "execute_result"
    }
   ],
   "source": [
    "model.fit(x_train,y_train)"
   ]
  },
  {
   "cell_type": "code",
   "execution_count": 103,
   "metadata": {},
   "outputs": [
    {
     "data": {
      "text/plain": [
       "0.75"
      ]
     },
     "execution_count": 103,
     "metadata": {},
     "output_type": "execute_result"
    }
   ],
   "source": [
    "model.score(x_test,y_test)"
   ]
  },
  {
   "cell_type": "code",
   "execution_count": 104,
   "metadata": {},
   "outputs": [],
   "source": [
    "y_pred=model.predict(x_test)"
   ]
  },
  {
   "cell_type": "code",
   "execution_count": 108,
   "metadata": {},
   "outputs": [
    {
     "data": {
      "text/plain": [
       "<AxesSubplot:>"
      ]
     },
     "execution_count": 108,
     "metadata": {},
     "output_type": "execute_result"
    },
    {
     "data": {
      "image/png": "[encoded data removed]",
      "text/plain": [
       "<Figure size 432x288 with 2 Axes>"
      ]
     },
     "metadata": {
      "needs_background": "light"
     },
     "output_type": "display_data"
    }
   ],
   "source": [
    "from sklearn.metrics import confusion_matrix\n",
    "co=confusion_matrix(y_test,y_pred)\n",
    "sns.heatmap(co,annot=True)"
   ]
  },
  {
   "cell_type": "code",
   "execution_count": null,
   "metadata": {},
   "outputs": [],
   "source": []
  }
 ],
 "metadata": {
  "kernelspec": {
   "display_name": "Python 3",
   "language": "python",
   "name": "python3"
  },
  "language_info": {
   "codemirror_mode": {
    "name": "ipython",
    "version": 3
   },
   "file_extension": ".py",
   "mimetype": "text/x-python",
   "name": "python",
   "nbconvert_exporter": "python",
   "pygments_lexer": "ipython3",
   "version": "3.8.5"
  }
 },
 "nbformat": 4,
 "nbformat_minor": 4
}
